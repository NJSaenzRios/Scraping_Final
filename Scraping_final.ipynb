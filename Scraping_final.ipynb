{
  "nbformat": 4,
  "nbformat_minor": 0,
  "metadata": {
    "colab": {
      "provenance": [],
      "authorship_tag": "ABX9TyOEJYwYPSwLbwlM2Sc2LuTo",
      "include_colab_link": true
    },
    "kernelspec": {
      "name": "python3",
      "display_name": "Python 3"
    },
    "language_info": {
      "name": "python"
    }
  },
  "cells": [
    {
      "cell_type": "markdown",
      "metadata": {
        "id": "view-in-github",
        "colab_type": "text"
      },
      "source": [
        "<a href=\"https://colab.research.google.com/github/NJSaenzRios/Scraping_Final/blob/main/Scraping_final.ipynb\" target=\"_parent\"><img src=\"https://colab.research.google.com/assets/colab-badge.svg\" alt=\"Open In Colab\"/></a>"
      ]
    },
    {
      "cell_type": "code",
      "execution_count": 5,
      "metadata": {
        "colab": {
          "base_uri": "https://localhost:8080/"
        },
        "id": "P7pZrLlSWnfL",
        "outputId": "67ead3bd-2225-4414-aa72-c2aab5237fe2"
      },
      "outputs": [
        {
          "output_type": "stream",
          "name": "stdout",
          "text": [
            "Requirement already satisfied: beautifulsoup4 in /usr/local/lib/python3.10/dist-packages (4.12.3)\n",
            "Requirement already satisfied: soupsieve>1.2 in /usr/local/lib/python3.10/dist-packages (from beautifulsoup4) (2.6)\n",
            "Acceso super exitoso!\n"
          ]
        }
      ],
      "source": [
        "import requests\n",
        "from bs4 import BeautifulSoup\n",
        "import os\n",
        "import pandas as pd\n",
        "\n",
        "# Install beautifulsoup4 if not already installed\n",
        "!pip install beautifulsoup4\n",
        "\n",
        "def scrape_mercado_libre(url):\n",
        "    \"\"\"\n",
        "    Extrae información de los productos más vendidos de PlayStation en Mercado Libre.\n",
        "\n",
        "    Args:\n",
        "        url: La URL de la página de Mercado Libre a raspar.\n",
        "\n",
        "    Returns:\n",
        "        Un string con la información extraída o un mensaje de error.\n",
        "    \"\"\"\n",
        "    try:\n",
        "        # 1. Obtener el contenido HTML de la página\n",
        "        response = requests.get(url)\n",
        "        response.raise_for_status()  # Lanza una excepción para códigos de estado incorrectos (4xx o 5xx)\n",
        "\n",
        "        # 2. Analizar el HTML con BeautifulSoup\n",
        "        soup = BeautifulSoup(response.content, \"html.parser\")\n",
        "\n",
        "        # 3. Encontrar los elementos que contienen la información de los productos.\n",
        "        #    Inspecciona la página web con las herramientas de desarrollador de tu navegador\n",
        "        #    para encontrar los selectores correctos para los títulos y precios.\n",
        "\n",
        "\n",
        "        productos = soup.find_all(\"li\", class_=\"ui_search_layout_item\")  # Ajusta este selector si es necesario\n",
        "        for producto in productos:\n",
        "\n",
        "            # Encuentra el título del producto\n",
        "            titulo_elemento = producto.find(\"h2\", class_=\"poly-box\")\n",
        "            titulo = titulo_elemento.text.strip()  if titulo_elemento else \"Título no encontrado\"\n",
        "\n",
        "\n",
        "            # Encuentra el precio del producto\n",
        "            precio_elemento = producto.find(\"span\", class_=\"poly_card\")\n",
        "            precio = precio_elemento.text.strip() if precio_elemento else \"Precio no encontrado\"\n",
        "\n",
        "\n",
        "            # Encuentra la promocion del producto\n",
        "            promocion_elemento = producto.find(\"a\", class_=\"poly-component__ads-promotions\")\n",
        "            promocion = promocion_elemento.text.strip() if promocion_elemento else \"Sin promocion\"\n",
        "\n",
        "\n",
        "            # Agrega la información a la cadena de resultados\n",
        "            resultados += f\"Título: {titulo}\\n\"\n",
        "            resultados += f\"Precio: {precio}\\n\"\n",
        "            resultados += f\"Promocion: {promocion}\\n\"\n",
        "            resultados += \"-----\\n\"\n",
        "\n",
        "\n",
        "        # 4. Guardar el HTML en el directorio especificado\n",
        "        if not os.path.exists('content/sample_data'):\n",
        "            os.makedirs('content/sample_data')  # Crea el directorio si no existe\n",
        "        with open(\"content/sample_data/mercado_libre_data.html\", \"w\", encoding=\"utf-8\") as f:\n",
        "            f.write(str(soup))  # Guarda el HTML completo\n",
        "\n",
        "\n",
        "        return resultados\n",
        "\n",
        "    except requests.exceptions.RequestException as e:\n",
        "        return f\"Error al obtener la URL: {e}\"\n",
        "    except AttributeError as e:\n",
        "        return f\"Error al analizar el HTML: {e}. Verifica el selector CSS.\"\n",
        "    except Exception as e:\n",
        "        return f\"Error inesperado: {e}\"\n",
        "\n",
        "\n",
        "\n",
        "# URL de búsqueda de PlayStation 5 en Mercado Libre Colombia\n",
        "url_mercado_libre = \"https://listado.mercadolibre.com.co/reloj-inteligente#D[A:reloj%20inteligente]\"\n",
        "\n",
        "headers = {\n",
        "    \"User-Agent\": \"Mozilla/5.0 (Windows NT 10.0; Win64; x64) AppleWebKit/537.36 (KHTML, like Gecko) Chrome/58.0.3029.110 Safari/537.3\"\n",
        "}\n",
        "\n",
        "response = requests.get(url_mercado_libre, headers=headers)\n",
        "\n",
        "if response.status_code == 200:\n",
        "    print(\"Acceso super exitoso!\")\n",
        "    # Procesar el contenido aquí\n",
        "else:\n",
        "    print(f\"Error al acceder a la URL: {response.status_code}\")\n",
        "resultados = scrape_mercado_libre(url_mercado_libre)\n",
        "\n"
      ]
    }
  ]
}